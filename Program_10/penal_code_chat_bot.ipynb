{
 "cells": [
  {
   "cell_type": "code",
   "execution_count": 1,
   "id": "7696a498",
   "metadata": {},
   "outputs": [
    {
     "name": "stderr",
     "output_type": "stream",
     "text": [
      "/tmp/ipykernel_11375/86711405.py:11: LangChainDeprecationWarning: The class `Cohere` was deprecated in LangChain 0.1.14 and will be removed in 1.0. An updated version of the class exists in the :class:`~langchain-cohere package and should be used instead. To use it run `pip install -U :class:`~langchain-cohere` and import as `from :class:`~langchain_cohere import Cohere``.\n",
      "  cohere_llm = Cohere(cohere_api_key=COHERE_API_KEY, model=\"command\")\n"
     ]
    }
   ],
   "source": [
    "\n",
    "# Import necessary libraries \n",
    "from langchain import PromptTemplate, LLMChain \n",
    "from langchain.llms import Cohere \n",
    "from pydantic import BaseModel \n",
    "from typing import Optional \n",
    "import wikipediaapi \n",
    " \n",
    "# Step 1: Set up the Cohere API \n",
    "import getpass \n",
    "COHERE_API_KEY = getpass.getpass('Enter your Cohere API Key: ') \n",
    "cohere_llm = Cohere(cohere_api_key=COHERE_API_KEY, model=\"command\") \n",
    " \n",
    "# Step 2: Download Indian Penal Code (IPC) summary from Wikipedia \n",
    "def fetch_ipc_summary(): \n",
    "    user_agent = \"IPCChatbot/1.0 (contact: kelvinprabhu2071@gmail.com)\" \n",
    "    wiki_wiki = wikipediaapi.Wikipedia(user_agent=user_agent, language='en') \n",
    "    page = wiki_wiki.page(\"Indian Penal Code\") \n",
    " \n",
    "    if not page.exists(): \n",
    "        raise ValueError(\"The Indian Penal Code page does not exist on Wikipedia.\") \n",
    "                                                          \n",
    " \n",
    " \n",
    "    return page.text[:5000]  # Limiting to first 5000 characters for brevity \n",
    " \n",
    "ipc_content = fetch_ipc_summary() \n",
    " \n",
    "# Step 3: Define a Pydantic model for structured responses \n",
    "class IPCResponse(BaseModel): \n",
    "    section: Optional[str] \n",
    "    explanation: Optional[str] \n",
    " \n",
    "# Step 4: Create a prompt template for the chatbot \n",
    "prompt_template = PromptTemplate( \n",
    "    input_variables=[\"question\"], \n",
    "    template=\"\"\" \n",
    "    You are a legal assistant chatbot specialized in the Indian Penal Code (IPC). \n",
    "    Refer to the following IPC document content to answer the user's query: \n",
    " \n",
    "    {ipc_content} \n",
    " \n",
    "    User Question: {question} \n",
    " \n",
    "    Provide a detailed answer, mentioning the relevant section if applicable. \n",
    "    \"\"\" \n",
    ") \n",
    " \n",
    "# Step 5: Function to interact with the chatbot \n",
    "def get_ipc_response(question: str) -> IPCResponse:\n",
    "    formatted_prompt = prompt_template.format(ipc_content=ipc_content, question=question)\n",
    "    \n",
    "    try:\n",
    "        response = cohere_llm.invoke(formatted_prompt)  # updated from predict() to invoke()\n",
    "    except Exception as e:\n",
    "        print(f\"LLM Error: {e}\")\n",
    "        return IPCResponse(section=None, explanation=\"Failed to get a response.\")\n",
    "    \n",
    "    # Extract section intelligently\n",
    "    if \"Section\" in response:\n",
    "        section = response.split('Section')[1].split(':')[0].strip()\n",
    "        explanation = response.split(':', 1)[-1].strip()\n",
    "        print(f\"Extracted Section: {section}\")\n",
    "        print(f\"Extracted Explanation: {explanation}\")\n",
    "    else:\n",
    "        section = None\n",
    "        explanation = response.strip()\n",
    "        print(\"No specific section mentioned in the response.\")\n",
    "    \n",
    "    return IPCResponse(section=section, explanation=explanation)\n",
    "\n",
    " \n"
   ]
  },
  {
   "cell_type": "code",
   "execution_count": 5,
   "id": "5088d05e",
   "metadata": {},
   "outputs": [
    {
     "data": {
      "application/vnd.jupyter.widget-view+json": {
       "model_id": "a17d29880efb47f5ab758d1577c1805b",
       "version_major": 2,
       "version_minor": 0
      },
      "text/plain": [
       "Text(value='', description='You:', placeholder='Ask about the Indian Penal Code')"
      ]
     },
     "metadata": {},
     "output_type": "display_data"
    },
    {
     "data": {
      "application/vnd.jupyter.widget-view+json": {
       "model_id": "44f8ffdc8006476280dee5215adb4892",
       "version_major": 2,
       "version_minor": 0
      },
      "text/plain": [
       "Button(description='Ask', icon='legal', style=ButtonStyle(), tooltip='Click to ask a question about IPC')"
      ]
     },
     "metadata": {},
     "output_type": "display_data"
    }
   ],
   "source": [
    "# Step 6: Set up interactive chatbot in Jupyter \n",
    "from IPython.display import display \n",
    "import ipywidgets as widgets \n",
    " \n",
    "# Function to display chatbot responses \n",
    "def display_response(response: IPCResponse): \n",
    "    print(f\"Section: {response.section if response.section else 'N/A'}\") \n",
    "    print(f\"Explanation: {response.explanation}\") \n",
    " \n",
    "# Function to handle user input \n",
    "def on_button_click(b): \n",
    "    user_question = text_box.value \n",
    "    print(f\"User: {user_question}\")\n",
    "    try: \n",
    "        response = get_ipc_response(user_question) \n",
    "        display_response(response) \n",
    "    except Exception as e: \n",
    "        print(f\"Error: {e}\") \n",
    "                                                          \n",
    " \n",
    " \n",
    "# Create text box and button for user input \n",
    "text_box = widgets.Text( \n",
    "    value='', \n",
    "    placeholder='Ask about the Indian Penal Code', \n",
    "    description='You:', \n",
    "    disabled=False \n",
    ") \n",
    "button = widgets.Button( \n",
    "    description='Ask', \n",
    "    disabled=False, \n",
    "    button_style='', \n",
    "    tooltip='Click to ask a question about IPC', \n",
    "    icon='legal' \n",
    ") \n",
    " \n",
    "button.on_click(on_button_click) \n",
    " \n",
    "# Display the chatbot interface \n",
    "display(text_box, button)"
   ]
  },
  {
   "cell_type": "code",
   "execution_count": 4,
   "id": "f7abcdeb",
   "metadata": {},
   "outputs": [
    {
     "name": "stdout",
     "output_type": "stream",
     "text": [
      "Welcome to the IPC Legal Assistant Chatbot!\n",
      "Type 'exit' to quit.\n",
      "\n",
      "Extracted Section: 323\n",
      "Extracted Explanation: 1. Section 323: If any individual voluntarily causes hurt or commits an act that would be likely to cause hurt, they shall be punished with imprisonment for a term of up to one year, a fine, or both.\n",
      "2. Section 324: When a person intentionally causes harm by an act that ends in the permanent disability of any limb, organ, or both, or causes an injury that would be likely to cause such permanent disability, the accused shall be punished with imprisonment for a term which may extend to ten years, a fine, or both. \n",
      "\n",
      "In addition to these, there are other more severe sections pertaining to more brutal attacks such as sections for voluntarily causing grievous hurt (sections 326-326A) and intentionally causing grievous hurt (sections 327-327A). \n",
      "\n",
      "If you feel threatened by any means, it is always a good idea to seek legal advice from a qualified professional or authority.\n",
      "\n",
      "--- Chatbot Response ---\n",
      "Section: 323\n",
      "Explanation: 1. Section 323: If any individual voluntarily causes hurt or commits an act that would be likely to cause hurt, they shall be punished with imprisonment for a term of up to one year, a fine, or both.\n",
      "2. Section 324: When a person intentionally causes harm by an act that ends in the permanent disability of any limb, organ, or both, or causes an injury that would be likely to cause such permanent disability, the accused shall be punished with imprisonment for a term which may extend to ten years, a fine, or both. \n",
      "\n",
      "In addition to these, there are other more severe sections pertaining to more brutal attacks such as sections for voluntarily causing grievous hurt (sections 326-326A) and intentionally causing grievous hurt (sections 327-327A). \n",
      "\n",
      "If you feel threatened by any means, it is always a good idea to seek legal advice from a qualified professional or authority.\n",
      "\n",
      "Goodbye!\n"
     ]
    }
   ],
   "source": [
    "# Simple chatbot loop using basic input/output\n",
    "\n",
    "def display_response(response: IPCResponse):\n",
    "    print(\"\\n--- Chatbot Response ---\")\n",
    "    print(f\"Section: {response.section if response.section else 'N/A'}\")\n",
    "    print(f\"Explanation: {response.explanation}\\n\")\n",
    "\n",
    "def start_ipc_chatbot():\n",
    "    print(\"Welcome to the IPC Legal Assistant Chatbot!\")\n",
    "    print(\"Type 'exit' to quit.\\n\")\n",
    "\n",
    "    while True:\n",
    "        user_question = input(\"You: \")\n",
    "        if user_question.lower() in ['exit', 'quit']:\n",
    "            print(\"Goodbye!\")\n",
    "            break\n",
    "        try:\n",
    "            response = get_ipc_response(user_question)\n",
    "            display_response(response)\n",
    "        except Exception as e:\n",
    "            print(f\"Error: {e}\\n\")\n",
    "\n",
    "# Start the chatbot\n",
    "start_ipc_chatbot()\n"
   ]
  },
  {
   "cell_type": "code",
   "execution_count": null,
   "id": "15f77d5a",
   "metadata": {},
   "outputs": [],
   "source": []
  },
  {
   "cell_type": "code",
   "execution_count": null,
   "id": "85eaf708",
   "metadata": {},
   "outputs": [],
   "source": []
  }
 ],
 "metadata": {
  "kernelspec": {
   "display_name": "linux-deep-gpu",
   "language": "python",
   "name": "python3"
  },
  "language_info": {
   "codemirror_mode": {
    "name": "ipython",
    "version": 3
   },
   "file_extension": ".py",
   "mimetype": "text/x-python",
   "name": "python",
   "nbconvert_exporter": "python",
   "pygments_lexer": "ipython3",
   "version": "3.12.2"
  }
 },
 "nbformat": 4,
 "nbformat_minor": 5
}
