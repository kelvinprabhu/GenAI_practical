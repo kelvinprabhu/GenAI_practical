{
 "cells": [
  {
   "cell_type": "code",
   "execution_count": 8,
   "id": "a5242c96",
   "metadata": {},
   "outputs": [
    {
     "name": "stdout",
     "output_type": "stream",
     "text": [
      "Requirement already satisfied: wikipedia-api in /home/kelvin/miniconda3/envs/linux-deep-gpu/lib/python3.12/site-packages (0.8.1)\n",
      "Requirement already satisfied: pydantic in /home/kelvin/miniconda3/envs/linux-deep-gpu/lib/python3.12/site-packages (2.10.6)\n",
      "Requirement already satisfied: requests in /home/kelvin/miniconda3/envs/linux-deep-gpu/lib/python3.12/site-packages (from wikipedia-api) (2.32.3)\n",
      "Requirement already satisfied: annotated-types>=0.6.0 in /home/kelvin/miniconda3/envs/linux-deep-gpu/lib/python3.12/site-packages (from pydantic) (0.7.0)\n",
      "Requirement already satisfied: pydantic-core==2.27.2 in /home/kelvin/miniconda3/envs/linux-deep-gpu/lib/python3.12/site-packages (from pydantic) (2.27.2)\n",
      "Requirement already satisfied: typing-extensions>=4.12.2 in /home/kelvin/miniconda3/envs/linux-deep-gpu/lib/python3.12/site-packages (from pydantic) (4.12.2)\n",
      "Requirement already satisfied: charset_normalizer<4,>=2 in /home/kelvin/miniconda3/envs/linux-deep-gpu/lib/python3.12/site-packages (from requests->wikipedia-api) (3.4.1)\n",
      "Requirement already satisfied: idna<4,>=2.5 in /home/kelvin/miniconda3/envs/linux-deep-gpu/lib/python3.12/site-packages (from requests->wikipedia-api) (3.10)\n",
      "Requirement already satisfied: urllib3<3,>=1.21.1 in /home/kelvin/miniconda3/envs/linux-deep-gpu/lib/python3.12/site-packages (from requests->wikipedia-api) (2.3.0)\n",
      "Requirement already satisfied: certifi>=2017.4.17 in /home/kelvin/miniconda3/envs/linux-deep-gpu/lib/python3.12/site-packages (from requests->wikipedia-api) (2025.1.31)\n",
      "Note: you may need to restart the kernel to use updated packages.\n"
     ]
    }
   ],
   "source": [
    "%pip install wikipedia-api pydantic \n"
   ]
  },
  {
   "cell_type": "code",
   "execution_count": 9,
   "id": "3990a24a",
   "metadata": {},
   "outputs": [],
   "source": [
    "%matplotlib inline"
   ]
  },
  {
   "cell_type": "code",
   "execution_count": 10,
   "id": "6997645d",
   "metadata": {},
   "outputs": [],
   "source": [
    "# import ipywidgets as widgets\n",
    "# from IPython.display import display\n",
    "\n",
    "# text = widgets.Text(value=\"\", placeholder=\"Type something\")\n",
    "# display(text)\n",
    "\n",
    "# def handle_submit(sender):\n",
    "#     print(text.value)\n",
    "\n",
    "# text.on_submit(handle_submit)"
   ]
  },
  {
   "cell_type": "code",
   "execution_count": 11,
   "id": "4d838751",
   "metadata": {},
   "outputs": [
    {
     "data": {
      "application/vnd.jupyter.widget-view+json": {
       "model_id": "31c14a2fad2e4c6a98e9524922a7aab0",
       "version_major": 2,
       "version_minor": 0
      },
      "text/plain": [
       "Text(value='', description='Institution:', placeholder='Enter the institution name')"
      ]
     },
     "metadata": {},
     "output_type": "display_data"
    },
    {
     "data": {
      "application/vnd.jupyter.widget-view+json": {
       "model_id": "f4065092183f4a34a5b2287c951d31b7",
       "version_major": 2,
       "version_minor": 0
      },
      "text/plain": [
       "Button(description='Fetch Details', icon='search', style=ButtonStyle(), tooltip='Click to fetch institution de…"
      ]
     },
     "metadata": {},
     "output_type": "display_data"
    }
   ],
   "source": [
    "# Install required libraries \n",
    " \n",
    "from pydantic import BaseModel \n",
    "from typing import List, Optional \n",
    "import wikipediaapi \n",
    " \n",
    "class InstitutionDetails(BaseModel): \n",
    "    founder: Optional[str] \n",
    "    founded: Optional[str] \n",
    "    branches: Optional[List[str]] \n",
    "    number_of_employees: Optional[int] \n",
    "    summary: Optional[str] \n",
    " \n",
    "def fetch_institution_details(institution_name: str) -> InstitutionDetails: \n",
    "    # Define a user-agent as per Wikipedia's policy \n",
    "    user_agent = \"MyJupyterNotebook/1.0 (contact: kelvinprabhu2071@gmail.com)\" \n",
    "    wiki_wiki = wikipediaapi.Wikipedia(user_agent=user_agent, language='en') \n",
    "     \n",
    "    page = wiki_wiki.page(institution_name) \n",
    " \n",
    "    if not page.exists(): \n",
    "                                                          \n",
    " \n",
    "        raise ValueError(f\"The page for '{institution_name}' does not exist on Wikipedia.\") \n",
    " \n",
    "    # Initialize variables \n",
    "    founder = None \n",
    "    founded = None \n",
    "    branches = [] \n",
    "    number_of_employees = None \n",
    " \n",
    "    # Extract summary \n",
    "    summary = page.summary[:500]  # Limiting summary to 500 characters \n",
    " \n",
    "    # Extract information from the infobox \n",
    "    infobox = page.text.split('\\n') \n",
    "    for line in infobox: \n",
    "        if 'Founder' in line: \n",
    "            founder = line.split(':')[-1].strip() \n",
    "        elif 'Founded' in line: \n",
    "            founded = line.split(':')[-1].strip() \n",
    "        elif 'Branches' in line: \n",
    "            branches = [branch.strip() for branch in line.split(':')[-1].split(',')] \n",
    "        elif 'Number of employees' in line: \n",
    "            try: \n",
    "                number_of_employees = int(line.split(':')[-1].strip().replace(',', '')) \n",
    "            except ValueError: \n",
    "                number_of_employees = None \n",
    " \n",
    "    return InstitutionDetails( \n",
    "        founder=founder, \n",
    "        founded=founded, \n",
    "                                                          \n",
    " \n",
    "        branches=branches if branches else None, \n",
    "        number_of_employees=number_of_employees, \n",
    "        summary=summary \n",
    "    ) \n",
    " \n",
    "# Import necessary libraries \n",
    "from IPython.display import display \n",
    "import ipywidgets as widgets \n",
    " \n",
    "# Function to display institution details \n",
    "def display_institution_details(details: InstitutionDetails): \n",
    "    print(f\"Founder: {details.founder or 'N/A'}\") \n",
    "    print(f\"Founded: {details.founded or 'N/A'}\") \n",
    "    print(f\"Branches: {', '.join(details.branches) if details.branches else 'N/A'}\") \n",
    "    print(f\"Number of Employees: {details.number_of_employees or 'N/A'}\") \n",
    "    print(f\"Summary: {details.summary or 'N/A'}\") \n",
    " \n",
    "# Function to handle button click \n",
    "def on_button_click(b): \n",
    "    institution_name = text_box.value \n",
    "    try: \n",
    "        details = fetch_institution_details(institution_name) \n",
    "        display_institution_details(details) \n",
    "    except ValueError as e: \n",
    "        print(e) \n",
    " \n",
    "# Create input box and button \n",
    "text_box = widgets.Text( \n",
    "    value='', \n",
    "                                                          \n",
    " \n",
    "    placeholder='Enter the institution name', \n",
    "    description='Institution:', \n",
    "    disabled=False \n",
    ") \n",
    "button = widgets.Button( \n",
    "    description='Fetch Details', \n",
    "    disabled=False, \n",
    "    button_style='', \n",
    "    tooltip='Click to fetch institution details', \n",
    "    icon='search' \n",
    ") \n",
    " \n",
    "# Set up button click event \n",
    "button.on_click(on_button_click) \n",
    " \n",
    "# Display input box and button \n",
    "display(text_box, button)"
   ]
  },
  {
   "cell_type": "code",
   "execution_count": 13,
   "id": "55e2e89b",
   "metadata": {},
   "outputs": [
    {
     "name": "stdout",
     "output_type": "stream",
     "text": [
      "Founder: N/A\n",
      "Founded: N/A\n",
      "Branches: N/A\n",
      "Number of Employees: N/A\n",
      "Summary: Christ University, earlier known as Christ College, is a deemed-to-be-university located in Bengaluru, Karnataka, India. On 22 July 2008, it was declared as an institution deemed to be university under section 3 of UGC Act 1956.\n",
      "Christ is under the management of the priests of the Catholic religious order, Carmelites of Mary Immaculate (CMI), part of Syro Malabar Major Archiepiscopal Church. In 2016, the university was accredited by National Assessment and Accreditation Council with A+ Grade.\n"
     ]
    }
   ],
   "source": [
    "institution_name = input(\"Enter the institution name: \")\n",
    "try:\n",
    "    details = fetch_institution_details(institution_name)\n",
    "    display_institution_details(details)\n",
    "except ValueError as e:\n",
    "    print(e)"
   ]
  },
  {
   "cell_type": "code",
   "execution_count": null,
   "id": "3ecc0f41",
   "metadata": {},
   "outputs": [],
   "source": []
  }
 ],
 "metadata": {
  "kernelspec": {
   "display_name": "linux-deep-gpu",
   "language": "python",
   "name": "python3"
  },
  "language_info": {
   "codemirror_mode": {
    "name": "ipython",
    "version": 3
   },
   "file_extension": ".py",
   "mimetype": "text/x-python",
   "name": "python",
   "nbconvert_exporter": "python",
   "pygments_lexer": "ipython3",
   "version": "3.12.2"
  }
 },
 "nbformat": 4,
 "nbformat_minor": 5
}
