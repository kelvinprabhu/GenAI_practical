{
 "cells": [
  {
   "cell_type": "code",
   "execution_count": 1,
   "id": "a38785c8",
   "metadata": {},
   "outputs": [
    {
     "name": "stderr",
     "output_type": "stream",
     "text": [
      "2025-05-04 11:51:07.155187: E external/local_xla/xla/stream_executor/cuda/cuda_fft.cc:467] Unable to register cuFFT factory: Attempting to register factory for plugin cuFFT when one has already been registered\n",
      "WARNING: All log messages before absl::InitializeLog() is called are written to STDERR\n",
      "E0000 00:00:1746359467.205392   14957 cuda_dnn.cc:8579] Unable to register cuDNN factory: Attempting to register factory for plugin cuDNN when one has already been registered\n",
      "E0000 00:00:1746359467.219792   14957 cuda_blas.cc:1407] Unable to register cuBLAS factory: Attempting to register factory for plugin cuBLAS when one has already been registered\n",
      "W0000 00:00:1746359467.288943   14957 computation_placer.cc:177] computation placer already registered. Please check linkage and avoid linking the same target more than once.\n",
      "W0000 00:00:1746359467.289013   14957 computation_placer.cc:177] computation placer already registered. Please check linkage and avoid linking the same target more than once.\n",
      "W0000 00:00:1746359467.289017   14957 computation_placer.cc:177] computation placer already registered. Please check linkage and avoid linking the same target more than once.\n",
      "W0000 00:00:1746359467.289020   14957 computation_placer.cc:177] computation placer already registered. Please check linkage and avoid linking the same target more than once.\n",
      "2025-05-04 11:51:07.312841: I tensorflow/core/platform/cpu_feature_guard.cc:210] This TensorFlow binary is optimized to use available CPU instructions in performance-critical operations.\n",
      "To enable the following instructions: AVX2 FMA, in other operations, rebuild TensorFlow with the appropriate compiler flags.\n",
      "No model was supplied, defaulted to distilbert/distilbert-base-uncased-finetuned-sst-2-english and revision 714eb0f (https://huggingface.co/distilbert/distilbert-base-uncased-finetuned-sst-2-english).\n",
      "Using a pipeline without specifying a model name and revision in production is not recommended.\n"
     ]
    },
    {
     "name": "stdout",
     "output_type": "stream",
     "text": [
      "🔍 Loading Sentiment Analysis Model...\n"
     ]
    },
    {
     "data": {
      "application/vnd.jupyter.widget-view+json": {
       "model_id": "a134a2532e1044369ca831da54df9ebc",
       "version_major": 2,
       "version_minor": 0
      },
      "text/plain": [
       "config.json:   0%|          | 0.00/629 [00:00<?, ?B/s]"
      ]
     },
     "metadata": {},
     "output_type": "display_data"
    },
    {
     "data": {
      "application/vnd.jupyter.widget-view+json": {
       "model_id": "f6b98fa34fe9426eb582777876e11013",
       "version_major": 2,
       "version_minor": 0
      },
      "text/plain": [
       "model.safetensors:   0%|          | 0.00/268M [00:00<?, ?B/s]"
      ]
     },
     "metadata": {},
     "output_type": "display_data"
    },
    {
     "data": {
      "application/vnd.jupyter.widget-view+json": {
       "model_id": "574861bde9b543d4bb3a3b5d7bd568c2",
       "version_major": 2,
       "version_minor": 0
      },
      "text/plain": [
       "tokenizer_config.json:   0%|          | 0.00/48.0 [00:00<?, ?B/s]"
      ]
     },
     "metadata": {},
     "output_type": "display_data"
    },
    {
     "data": {
      "application/vnd.jupyter.widget-view+json": {
       "model_id": "7af3fa262a1f4ea28f83005bc1670341",
       "version_major": 2,
       "version_minor": 0
      },
      "text/plain": [
       "vocab.txt:   0%|          | 0.00/232k [00:00<?, ?B/s]"
      ]
     },
     "metadata": {},
     "output_type": "display_data"
    },
    {
     "name": "stderr",
     "output_type": "stream",
     "text": [
      "Device set to use cuda:0\n"
     ]
    },
    {
     "name": "stdout",
     "output_type": "stream",
     "text": [
      "\n",
      "📢 Customer Sentiment Analysis Results:\n",
      "\n",
      "📝 Input Text: The product is amazing! I love it so much.\n",
      "📊 Sentiment: POSITIVE (Confidence: 0.9999)\n",
      "\n",
      "\n",
      "📝 Input Text: I'm very disappointed. The service was terrible.\n",
      "📊 Sentiment: NEGATIVE (Confidence: 0.9998)\n",
      "\n",
      "\n",
      "📝 Input Text: It was an average experience, nothing special.\n",
      "📊 Sentiment: NEGATIVE (Confidence: 0.9995)\n",
      "\n",
      "\n",
      "📝 Input Text: Absolutely fantastic quality! Highly recommended.\n",
      "📊 Sentiment: POSITIVE (Confidence: 0.9999)\n",
      "\n",
      "\n",
      "📝 Input Text: Not great, but not the worst either.\n",
      "📊 Sentiment: NEGATIVE (Confidence: 0.9961)\n",
      "\n"
     ]
    }
   ],
   "source": [
    "# Install required libraries (only needed for first-time setup) \n",
    "# !pip install transformers \n",
    " \n",
    "# Import the sentiment analysis pipeline from Hugging Face \n",
    "from transformers import pipeline \n",
    " \n",
    "# Load the sentiment analysis pipeline \n",
    "print(\"🔍 Loading Sentiment Analysis Model...\") \n",
    "sentiment_analyzer = pipeline(\"sentiment-analysis\") \n",
    "                                                          \n",
    " \n",
    " \n",
    "# Function to analyze sentiment \n",
    "def analyze_sentiment(text): \n",
    "    \"\"\" \n",
    "    Analyze the sentiment of a given text input. \n",
    "     \n",
    "    Args: \n",
    "        text (str): Input sentence or paragraph. \n",
    "     \n",
    "    Returns: \n",
    "        dict: Sentiment label and confidence score. \n",
    "    \"\"\" \n",
    "    result = sentiment_analyzer(text)[0]  # Get the first result \n",
    "    label = result['label']  # Sentiment label (POSITIVE/NEGATIVE) \n",
    "    score = result['score']  # Confidence score \n",
    "     \n",
    "    print(f\"\\n📝 Input Text: {text}\") \n",
    "    print(f\"📊 Sentiment: {label} (Confidence: {score:.4f})\\n\") \n",
    "     \n",
    "    return result \n",
    " \n",
    "# Example real-world application: Customer feedback analysis \n",
    "customer_reviews = [ \n",
    "    \"The product is amazing! I love it so much.\", \n",
    "    \"I'm very disappointed. The service was terrible.\", \n",
    "    \"It was an average experience, nothing special.\", \n",
    "    \"Absolutely fantastic quality! Highly recommended.\", \n",
    "    \"Not great, but not the worst either.\" \n",
    "] \n",
    "                                                          \n",
    " \n",
    " \n",
    "# Analyze sentiment for multiple reviews \n",
    "print(\"\\n📢 Customer Sentiment Analysis Results:\") \n",
    "for review in customer_reviews: \n",
    "    analyze_sentiment(review) "
   ]
  }
 ],
 "metadata": {
  "kernelspec": {
   "display_name": "linux-deep-gpu",
   "language": "python",
   "name": "python3"
  },
  "language_info": {
   "codemirror_mode": {
    "name": "ipython",
    "version": 3
   },
   "file_extension": ".py",
   "mimetype": "text/x-python",
   "name": "python",
   "nbconvert_exporter": "python",
   "pygments_lexer": "ipython3",
   "version": "3.12.2"
  }
 },
 "nbformat": 4,
 "nbformat_minor": 5
}
