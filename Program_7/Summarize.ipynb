{
 "cells": [
  {
   "cell_type": "code",
   "execution_count": 1,
   "id": "0d5f8491",
   "metadata": {},
   "outputs": [
    {
     "name": "stderr",
     "output_type": "stream",
     "text": [
      "2025-05-04 10:37:41.241335: E external/local_xla/xla/stream_executor/cuda/cuda_fft.cc:467] Unable to register cuFFT factory: Attempting to register factory for plugin cuFFT when one has already been registered\n",
      "WARNING: All log messages before absl::InitializeLog() is called are written to STDERR\n",
      "E0000 00:00:1746355061.491198    2472 cuda_dnn.cc:8579] Unable to register cuDNN factory: Attempting to register factory for plugin cuDNN when one has already been registered\n",
      "E0000 00:00:1746355061.559652    2472 cuda_blas.cc:1407] Unable to register cuBLAS factory: Attempting to register factory for plugin cuBLAS when one has already been registered\n",
      "W0000 00:00:1746355062.141008    2472 computation_placer.cc:177] computation placer already registered. Please check linkage and avoid linking the same target more than once.\n",
      "W0000 00:00:1746355062.141222    2472 computation_placer.cc:177] computation placer already registered. Please check linkage and avoid linking the same target more than once.\n",
      "W0000 00:00:1746355062.141226    2472 computation_placer.cc:177] computation placer already registered. Please check linkage and avoid linking the same target more than once.\n",
      "W0000 00:00:1746355062.141230    2472 computation_placer.cc:177] computation placer already registered. Please check linkage and avoid linking the same target more than once.\n",
      "2025-05-04 10:37:42.200404: I tensorflow/core/platform/cpu_feature_guard.cc:210] This TensorFlow binary is optimized to use available CPU instructions in performance-critical operations.\n",
      "To enable the following instructions: AVX2 FMA, in other operations, rebuild TensorFlow with the appropriate compiler flags.\n"
     ]
    },
    {
     "name": "stdout",
     "output_type": "stream",
     "text": [
      "🔍 Loading Summarization Model (BART)...\n"
     ]
    },
    {
     "data": {
      "application/vnd.jupyter.widget-view+json": {
       "model_id": "b875c4afbc104c10b74d950d1156b659",
       "version_major": 2,
       "version_minor": 0
      },
      "text/plain": [
       "config.json:   0%|          | 0.00/1.58k [00:00<?, ?B/s]"
      ]
     },
     "metadata": {},
     "output_type": "display_data"
    },
    {
     "data": {
      "application/vnd.jupyter.widget-view+json": {
       "model_id": "049fbf5153ff4a47b4cf300e3d32505a",
       "version_major": 2,
       "version_minor": 0
      },
      "text/plain": [
       "model.safetensors:   0%|          | 0.00/1.63G [00:00<?, ?B/s]"
      ]
     },
     "metadata": {},
     "output_type": "display_data"
    },
    {
     "data": {
      "application/vnd.jupyter.widget-view+json": {
       "model_id": "f433a9196bd846b2aed6105733d28e8b",
       "version_major": 2,
       "version_minor": 0
      },
      "text/plain": [
       "generation_config.json:   0%|          | 0.00/363 [00:00<?, ?B/s]"
      ]
     },
     "metadata": {},
     "output_type": "display_data"
    },
    {
     "data": {
      "application/vnd.jupyter.widget-view+json": {
       "model_id": "c883158cf07b404fad4c0d26787f842f",
       "version_major": 2,
       "version_minor": 0
      },
      "text/plain": [
       "vocab.json:   0%|          | 0.00/899k [00:00<?, ?B/s]"
      ]
     },
     "metadata": {},
     "output_type": "display_data"
    },
    {
     "data": {
      "application/vnd.jupyter.widget-view+json": {
       "model_id": "c273bbee9be3455cb99cfa633da4150a",
       "version_major": 2,
       "version_minor": 0
      },
      "text/plain": [
       "merges.txt:   0%|          | 0.00/456k [00:00<?, ?B/s]"
      ]
     },
     "metadata": {},
     "output_type": "display_data"
    },
    {
     "data": {
      "application/vnd.jupyter.widget-view+json": {
       "model_id": "390125673309466baaccdb796dc75849",
       "version_major": 2,
       "version_minor": 0
      },
      "text/plain": [
       "tokenizer.json:   0%|          | 0.00/1.36M [00:00<?, ?B/s]"
      ]
     },
     "metadata": {},
     "output_type": "display_data"
    },
    {
     "name": "stderr",
     "output_type": "stream",
     "text": [
      "Device set to use cuda:0\n"
     ]
    },
    {
     "name": "stdout",
     "output_type": "stream",
     "text": [
      "\n",
      "📝 Original Text:\n",
      "Artificial Intelligence (AI) is a rapidly evolving field of computer science focused on creating intelligent machines capable of mimicking human cognitive functions such as learning, problem-solving, and decision-making. Dept. of CSE, RVITM Gen AI – BAIL657C 75 In recent years, AI has significantly impacted various industries, including healthcare, finance, education, and entertainment. AI-powered applications, such as chatbots, self-driving cars, and recommendation systems, have transformed the way we interact with technology. Machine learning and deep learning, subsets of AI, enable systems to learn from data and improve over time without explicit programming. However, AI also poses ethical challenges, such as bias in decision-making and concerns over job displacement. As AI technology continues to advance, it is crucial to balance innovation with ethical considerations to ensure its responsible development and deployment.\n",
      "\n",
      "📌 Summarized Text:\n",
      "Default: Artificial Intelligence (AI) is a rapidly evolving field of computer science. It is focused on creating intelligent machines capable of mimicking human cognitive functions. In recent years, AI has significantly impacted various industries, including healthcare, finance, education, and entertainment.\n",
      "High randomness: Artificial Intelligence (AI) is a rapidly evolving field of computer science. It is focused on creating intelligent machines capable of mimicking human cognitive functions. In recent years, AI has significantly impacted various industries, including healthcare, finance, education and entertainment.\n",
      "Conservative: Artificial Intelligence (AI) is a rapidly evolving field of computer science. It is focused on creating intelligent machines capable of mimicking human cognitive functions. In recent years, AI has significantly impacted various industries, including healthcare, finance, education, and entertainment.\n",
      "Diverse sampling: Artificial Intelligence (AI) is a rapidly evolving field of computer science focused on creating intelligent machines. In recent years, AI has significantly impacted various industries, including healthcare, finance, education, and entertainment. It is crucial to balance innovation with ethical considerations to ensure its responsible development and deployment.\n"
     ]
    }
   ],
   "source": [
    "# Install required libraries (only needed for first-time setup) \n",
    "# !pip install transformers \n",
    " \n",
    "# Import the summarization pipeline from Hugging Face \n",
    "from transformers import pipeline \n",
    " \n",
    "# Load a more accurate pre-trained summarization model \n",
    "print(\"🔍 Loading Summarization Model (BART)...\") \n",
    "summarizer = pipeline(\"summarization\", model=\"facebook/bart-large-cnn\") \n",
    " \n",
    "# Function to summarize text with improved accuracy \n",
    "def summarize_text(text, max_length=None, min_length=None): \n",
    "    \"\"\" \n",
    "    Summarizes a given long text using a pre-trained BART summarization model. \n",
    "                                                          \n",
    " \n",
    " \n",
    "    Args: \n",
    "        text (str): The input passage to summarize. \n",
    "        max_length (int): Maximum length of the summary (default: auto-calculated). \n",
    "        min_length (int): Minimum length of the summary (default: auto-calculated). \n",
    " \n",
    "    Returns: \n",
    "        str: The summarized text. \n",
    "    \"\"\" \n",
    "    # Remove unnecessary line breaks \n",
    "    text = \" \".join(text.split()) \n",
    " \n",
    "    # Auto-adjust summary length based on text size \n",
    "    if not max_length: \n",
    "        max_length = min(len(text) // 3, 150)  # Summary should be ~1/3rd of input \n",
    "    if not min_length: \n",
    "        min_length = max(30, max_length // 3)  # Minimum length should be at least 30 \n",
    " \n",
    "    # Generate the summary \n",
    "    #summary = summarizer(text, max_length=max_length, min_length=min_length, do_sample=True, temperature=0.9, repetition_penalty=1.2) \n",
    "     \n",
    "    # Default Settings \n",
    "    summary_1 = summarizer(text, max_length=150, min_length=30, do_sample=False) \n",
    " \n",
    "    # High randomness (Creative output) \n",
    "    summary_2 = summarizer(text, max_length=150, min_length=30, do_sample=True, temperature=0.9) \n",
    " \n",
    "    # Conservative approach (More structured) \n",
    "                                                          \n",
    " \n",
    "    summary_3 = summarizer(text, max_length=150, min_length=30, do_sample=False, num_beams=5) \n",
    " \n",
    "    # Diverse sampling using top-k and top-p \n",
    "    summary_4 = summarizer(text, max_length=150, min_length=30, do_sample=True, top_k=50, top_p=0.95) \n",
    " \n",
    "    print(\"\\n📝 Original Text:\") \n",
    "    print(text) \n",
    "    print(\"\\n📌 Summarized Text:\") \n",
    "     \n",
    "    print(\"Default:\", summary_1[0]['summary_text']) \n",
    "    print(\"High randomness:\", summary_2[0]['summary_text']) \n",
    "    print(\"Conservative:\", summary_3[0]['summary_text']) \n",
    "    print(\"Diverse sampling:\", summary_4[0]['summary_text']) \n",
    "        \n",
    "    #summarized_text = summary[0]['summary_text'] \n",
    " \n",
    "    #print(\"\\n📝 Original Text:\") \n",
    "    #print(text) \n",
    "    #print(\"\\n📌 Summarized Text:\") \n",
    "    #print(summarized_text) \n",
    "     \n",
    "# Example long text passage \n",
    "long_text = \"\"\" \n",
    "Artificial Intelligence (AI) is a rapidly evolving field of computer science focused on \n",
    "creating intelligent machines  \n",
    "capable of mimicking human cognitive functions such as learning, problem-solving, and \n",
    "decision-making.  \n",
    "                                                          \n",
    "Dept. of CSE, RVITM Gen AI – BAIL657C 75 \n",
    " \n",
    "In recent years, AI has significantly impacted various industries, including healthcare, \n",
    "finance, education,  \n",
    "and entertainment. AI-powered applications, such as chatbots, self-driving cars, and \n",
    "recommendation systems,  \n",
    "have transformed the way we interact with technology. Machine learning and deep \n",
    "learning, subsets of AI,  \n",
    "enable systems to learn from data and improve over time without explicit programming. \n",
    "However, AI also poses ethical  \n",
    "challenges, such as bias in decision-making and concerns over job displacement. As AI \n",
    "technology continues to advance,  \n",
    "it is crucial to balance innovation with ethical considerations to ensure its responsible \n",
    "development and deployment. \n",
    "\"\"\" \n",
    "# Summarize the passage \n",
    "#summarized_output = summarize_text(long_text) \n",
    "summarize_text(long_text) "
   ]
  },
  {
   "cell_type": "code",
   "execution_count": null,
   "id": "cf2053a7",
   "metadata": {},
   "outputs": [],
   "source": []
  }
 ],
 "metadata": {
  "kernelspec": {
   "display_name": "linux-deep-gpu",
   "language": "python",
   "name": "python3"
  },
  "language_info": {
   "codemirror_mode": {
    "name": "ipython",
    "version": 3
   },
   "file_extension": ".py",
   "mimetype": "text/x-python",
   "name": "python",
   "nbconvert_exporter": "python",
   "pygments_lexer": "ipython3",
   "version": "3.12.2"
  }
 },
 "nbformat": 4,
 "nbformat_minor": 5
}
