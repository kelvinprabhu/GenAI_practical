{
 "cells": [
  {
   "cell_type": "code",
   "execution_count": 1,
   "id": "c42780e1",
   "metadata": {},
   "outputs": [
    {
     "name": "stderr",
     "output_type": "stream",
     "text": [
      "[nltk_data] Error loading punkt: <urlopen error [Errno -3] Temporary\n",
      "[nltk_data]     failure in name resolution>\n"
     ]
    },
    {
     "name": "stdout",
     "output_type": "stream",
     "text": [
      "Loading pre-trained word vectors...\n",
      "Word vectors loaded successfully!\n",
      "\n",
      "Generated Paragraph:\n",
      "\n",
      "The love was surrounded by me and passion. People often associate love with my and life. In the land of love, dream was a common sight. In the land of love, dream was a common sight.\n"
     ]
    }
   ],
   "source": [
    "import gensim.downloader as api \n",
    "import random \n",
    "import nltk \n",
    "from nltk.tokenize import sent_tokenize \n",
    " \n",
    "# Ensure required resources are downloaded \n",
    "nltk.download('punkt') \n",
    "                                                          \n",
    " \n",
    " \n",
    "# Load pre-trained word vectors \n",
    "print(\"Loading pre-trained word vectors...\") \n",
    "word_vectors = api.load(\"glove-wiki-gigaword-100\")  # 100D GloVe word embeddings \n",
    "print(\"Word vectors loaded successfully!\") \n",
    " \n",
    "def get_similar_words(seed_word, top_n=5): \n",
    "    \"\"\"Retrieve top-N similar words for a given seed word.\"\"\" \n",
    "    try: \n",
    "        similar_words = word_vectors.most_similar(seed_word, topn=top_n) \n",
    "        return [word[0] for word in similar_words] \n",
    "    except KeyError: \n",
    "        print(f\"'{seed_word}' not found in vocabulary. Try another word.\") \n",
    "        return [] \n",
    " \n",
    "def generate_sentence(seed_word, similar_words): \n",
    "    \"\"\"Create a meaningful sentence using the seed word and its similar words.\"\"\" \n",
    "    sentence_templates = [f\"The {seed_word} was surrounded by {similar_words[0]} and {similar_words[1]}.\", f\"People often associate {seed_word} with {similar_words[2]} and {similar_words[3]}.\", f\"In the land of {seed_word}, {similar_words[4]} was a common sight.\", f\"A story about {seed_word} would be incomplete without {similar_words[1]} and {similar_words[3]}.\", ] \n",
    "    return random.choice(sentence_templates) \n",
    " \n",
    "def generate_paragraph(seed_word): \n",
    "    \"\"\"Construct a creative paragraph using the seed word and similar words.\"\"\" \n",
    "    similar_words = get_similar_words(seed_word, top_n=5) \n",
    "     \n",
    "    if not similar_words: \n",
    "        return \"Could not generate a paragraph. Try another seed word.\" \n",
    "     \n",
    "    paragraph = [generate_sentence(seed_word, similar_words) for _ in range(4)] \n",
    "    return \" \".join(paragraph) \n",
    " \n",
    "# Example usage \n",
    "seed_word = input(\"Enter a seed word: \") \n",
    "paragraph = generate_paragraph(seed_word) \n",
    "print(\"\\nGenerated Paragraph:\\n\") \n",
    "print(paragraph)"
   ]
  },
  {
   "cell_type": "code",
   "execution_count": null,
   "id": "e5887159",
   "metadata": {},
   "outputs": [],
   "source": []
  }
 ],
 "metadata": {
  "kernelspec": {
   "display_name": "linux-deep-gpu",
   "language": "python",
   "name": "python3"
  },
  "language_info": {
   "codemirror_mode": {
    "name": "ipython",
    "version": 3
   },
   "file_extension": ".py",
   "mimetype": "text/x-python",
   "name": "python",
   "nbconvert_exporter": "python",
   "pygments_lexer": "ipython3",
   "version": "3.12.2"
  }
 },
 "nbformat": 4,
 "nbformat_minor": 5
}
