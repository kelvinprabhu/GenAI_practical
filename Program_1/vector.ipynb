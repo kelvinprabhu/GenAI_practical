{
 "cells": [
  {
   "cell_type": "code",
   "execution_count": null,
   "id": "f20c6502",
   "metadata": {},
   "outputs": [
    {
     "name": "stdout",
     "output_type": "stream",
     "text": [
      "Loading pre-trained word vectors...\n",
      "\n",
      "Word Relationship: king - man + woman\n",
      "Most similar words to the result (excluding input words):\n",
      "queen: 0.7301\n",
      "monarch: 0.6455\n",
      "princess: 0.6156\n",
      "crown_prince: 0.5819\n",
      "prince: 0.5777\n",
      "\n",
      "Word Relationship: paris - france + germany\n",
      "Most similar words to the result (excluding input words):\n",
      "berlin: 0.4838\n",
      "german: 0.4695\n",
      "lindsay_lohan: 0.4536\n",
      "switzerland: 0.4468\n",
      "heidi: 0.4445\n",
      "\n",
      "Word Relationship: apple - fruit + carrot\n",
      "Most similar words to the result (excluding input words):\n",
      "carrots: 0.5700\n",
      "proverbial_carrot: 0.4578\n",
      "Carrot: 0.4159\n",
      "Twizzler: 0.4074\n",
      "peppermint_candy: 0.4074\n",
      "\n",
      "Similarity between 'cat' and 'dog': 0.7609\n",
      "\n",
      "Similarity between 'computer' and 'keyboard': 0.3964\n",
      "\n",
      "Similarity between 'music' and 'art': 0.4010\n",
      "\n",
      "Most similar words to 'happy':\n",
      "glad: 0.7409\n",
      "pleased: 0.6632\n",
      "ecstatic: 0.6627\n",
      "overjoyed: 0.6599\n",
      "thrilled: 0.6514\n",
      "\n",
      "Most similar words to 'sad':\n",
      "saddening: 0.7273\n",
      "Sad: 0.6611\n",
      "saddened: 0.6604\n",
      "heartbreaking: 0.6574\n",
      "disheartening: 0.6507\n",
      "\n",
      "Most similar words to 'technology':\n",
      "technologies: 0.8332\n",
      "innovations: 0.6231\n",
      "technological_innovations: 0.6102\n",
      "technol: 0.6047\n",
      "technological_advancement: 0.6036\n"
     ]
    }
   ],
   "source": [
    "import numpy as np\n",
    "from numpy.linalg import norm\n",
    "import gensim.downloader as api\n",
    "\n",
    "# Load pre-trained word vectors\n",
    "print(\"Loading pre-trained word vectors...\")\n",
    "word_vectors = api.load(\"word2vec-google-news-300\")  # ~1.5GB model\n",
    "\n",
    "# Function to perform vector arithmetic and find similar words\n",
    "def explore_word_relationships(word1, word2, word3):\n",
    "    try:\n",
    "        # Get vectors for the input words\n",
    "        vec1 = word_vectors[word1]\n",
    "        vec2 = word_vectors[word2]\n",
    "        vec3 = word_vectors[word3]\n",
    "\n",
    "        # Perform vector arithmetic: word1 - word2 + word3\n",
    "        result_vector = vec1 - vec2 + vec3\n",
    "\n",
    "        # Find the most similar words to the resulting vector\n",
    "        similar_words = word_vectors.similar_by_vector(result_vector, topn=10)\n",
    "\n",
    "        # Exclude input words from the results\n",
    "        input_words = {word1, word2, word3}\n",
    "        filtered_words = [(word, similarity) for word, similarity in similar_words if word not in input_words]\n",
    "\n",
    "        print(f\"\\nWord Relationship: {word1} - {word2} + {word3}\")\n",
    "        print(\"Most similar words to the result (excluding input words):\")\n",
    "        for word, similarity in filtered_words[:5]:  # Show top 5 results\n",
    "            print(f\"{word}: {similarity:.4f}\")\n",
    "\n",
    "    except KeyError as e:\n",
    "        print(f\"Error: {e} not found in the vocabulary.\")\n",
    "\n",
    "\n",
    "# Function to analyze the similarity between two words\n",
    "def analyze_similarity(word1, word2):\n",
    "    try:\n",
    "        similarity = word_vectors.similarity(word1, word2)\n",
    "        print(f\"\\nSimilarity between '{word1}' and '{word2}': {similarity:.4f}\")\n",
    "    except KeyError as e:\n",
    "        print(f\"Error: {e} not found in the vocabulary.\")\n",
    "\n",
    "\n",
    "# Function to find the most similar words to a given word\n",
    "def find_most_similar(word):\n",
    "    try:\n",
    "        similar_words = word_vectors.most_similar(word, topn=5)\n",
    "        print(f\"\\nMost similar words to '{word}':\")\n",
    "        for similar_word, similarity in similar_words:\n",
    "            print(f\"{similar_word}: {similarity:.4f}\")\n",
    "    except KeyError as e:\n",
    "        print(f\"Error: {e} not found in the vocabulary.\")\n",
    "\n"
   ]
  },
  {
   "cell_type": "code",
   "execution_count": null,
   "id": "6f7ab995",
   "metadata": {},
   "outputs": [
    {
     "name": "stdout",
     "output_type": "stream",
     "text": [
      "\n",
      "Word Relationship: king - man + woman\n",
      "Most similar words to the result (excluding input words):\n",
      "queen: 0.7301\n",
      "monarch: 0.6455\n",
      "princess: 0.6156\n",
      "crown_prince: 0.5819\n",
      "prince: 0.5777\n",
      "\n",
      "Word Relationship: paris - france + germany\n",
      "Most similar words to the result (excluding input words):\n",
      "berlin: 0.4838\n",
      "german: 0.4695\n",
      "lindsay_lohan: 0.4536\n",
      "switzerland: 0.4468\n",
      "heidi: 0.4445\n",
      "\n",
      "Word Relationship: apple - fruit + carrot\n",
      "Most similar words to the result (excluding input words):\n",
      "carrots: 0.5700\n",
      "proverbial_carrot: 0.4578\n",
      "Carrot: 0.4159\n",
      "Twizzler: 0.4074\n",
      "peppermint_candy: 0.4074\n"
     ]
    }
   ],
   "source": [
    "\n",
    "# Example word relationships to explore\n",
    "explore_word_relationships(\"king\", \"man\", \"woman\")\n",
    "explore_word_relationships(\"paris\", \"france\", \"germany\")\n",
    "explore_word_relationships(\"apple\", \"fruit\", \"carrot\")"
   ]
  },
  {
   "cell_type": "code",
   "execution_count": 10,
   "id": "124ce0d3",
   "metadata": {},
   "outputs": [
    {
     "name": "stdout",
     "output_type": "stream",
     "text": [
      "\n",
      "Word Relationship: girl - love + daddy\n",
      "Most similar words to the result (excluding input words):\n",
      "boy: 0.7019\n",
      "daughter: 0.6289\n",
      "mother: 0.6230\n",
      "toddler: 0.5903\n",
      "niece: 0.5779\n"
     ]
    }
   ],
   "source": [
    "explore_word_relationships(\"girl\", \"love\", \"daddy\")"
   ]
  },
  {
   "cell_type": "code",
   "execution_count": null,
   "id": "6ff21d68",
   "metadata": {},
   "outputs": [],
   "source": [
    "\n",
    "# Example similarity analysis\n",
    "analyze_similarity(\"cat\", \"dog\")\n",
    "analyze_similarity(\"computer\", \"keyboard\")\n",
    "analyze_similarity(\"music\", \"art\")"
   ]
  },
  {
   "cell_type": "code",
   "execution_count": null,
   "id": "4125d2ce",
   "metadata": {},
   "outputs": [],
   "source": [
    "\n",
    "# Example: Find most similar words\n",
    "find_most_similar(\"happy\")\n",
    "find_most_similar(\"sad\")\n",
    "find_most_similar(\"technology\")"
   ]
  }
 ],
 "metadata": {
  "kernelspec": {
   "display_name": "linux-deep-gpu",
   "language": "python",
   "name": "python3"
  },
  "language_info": {
   "codemirror_mode": {
    "name": "ipython",
    "version": 3
   },
   "file_extension": ".py",
   "mimetype": "text/x-python",
   "name": "python",
   "nbconvert_exporter": "python",
   "pygments_lexer": "ipython3",
   "version": "3.12.2"
  }
 },
 "nbformat": 4,
 "nbformat_minor": 5
}
